{
 "cells": [
  {
   "cell_type": "markdown",
   "id": "b8421cab",
   "metadata": {},
   "source": [
    "## Unsupervised learning: Gaussian Mixture Model\n",
    "\n",
    "Part of the present material can be found [here](https://towardsdatascience.com/gaussian-mixture-model-clearly-explained-115010f7d4cf)\n",
    "\n",
    "We here see how a Gaussian Mixed Model can be built from scratch."
   ]
  },
  {
   "cell_type": "code",
   "execution_count": 52,
   "id": "e49761b3",
   "metadata": {},
   "outputs": [],
   "source": [
    "import numpy as np\n",
    "\n",
    "n_samples = 100\n",
    "mu1, sigma1 = -5, 1.2 \n",
    "mu2, sigma2 = 5, 1.8 \n",
    "mu3, sigma3 = 0, 1.6 \n",
    "\n",
    "x1 = np.random.normal(loc = mu1, scale = np.sqrt(sigma1), size = n_samples)\n",
    "x2 = np.random.normal(loc = mu2, scale = np.sqrt(sigma2), size = n_samples)\n",
    "x3 = np.random.normal(loc = mu3, scale = np.sqrt(sigma3), size = n_samples)\n",
    "\n",
    "X = np.concatenate((x1,x2,x3))"
   ]
  },
  {
   "cell_type": "code",
   "execution_count": 53,
   "id": "7bbcdc3b",
   "metadata": {},
   "outputs": [],
   "source": [
    "from scipy.stats import norm\n",
    "\n",
    "def plot_pdf(mu,sigma,label,alpha=0.5,linestyle='k--',density=True):\n",
    "    \"\"\"\n",
    "    Plot 1-D data and its PDF curve.\n",
    "\n",
    "    \"\"\"\n",
    "    # Compute the mean and standard deviation of the data\n",
    "\n",
    "    # Plot the data\n",
    "    \n",
    "    X = norm.rvs(mu, sigma, size=1000)\n",
    "    \n",
    "    plt.hist(X, bins=50, density=density, alpha=alpha,label=label)\n",
    "\n",
    "    # Plot the PDF\n",
    "    x = np.linspace(X.min(), X.max(), 1000)\n",
    "    y = norm.pdf(x, mu, sigma)\n",
    "    plt.plot(x, y, linestyle)"
   ]
  },
  {
   "cell_type": "code",
   "execution_count": 54,
   "id": "737c06af",
   "metadata": {},
   "outputs": [],
   "source": [
    "import matplotlib.pyplot as plt\n",
    "\n",
    "def plot_pdfs(mus, sigmas, labels, alpha=0.5, linestyle='k--', density=True):\n",
    "    fig, ax = plt.subplots()\n",
    "    for mu, sigma, label in zip(mus, sigmas, labels):\n",
    "        plot_pdf(mu, sigma, label, alpha,linestyle, density) \n",
    "    ax.set_xlim(-10, 10)\n",
    "    ax.set_ylim(0, 1)\n",
    "    plt.legend()\n",
    "    plt.show()"
   ]
  },
  {
   "cell_type": "code",
   "execution_count": 55,
   "id": "2a340a10",
   "metadata": {},
   "outputs": [],
   "source": [
    "def random_init(n_compenents):\n",
    "    \n",
    "    \"\"\"Initialize means, weights and variance randomly \n",
    "      and plot the initialization\n",
    "    \n",
    "    Parameters\n",
    "    ---------- \n",
    "    n_components : int\n",
    "        The number of clusters\n",
    "        \n",
    "    Returns\n",
    "    -------\n",
    "    means : array-like, shape (n_components,)\n",
    "        The means of each mixture component.\n",
    "    variances : array-like, shape (n_components,)\n",
    "        The variances of each mixture component.\n",
    "    pi: array-like (n_components,)\n",
    "        mixture component weights\n",
    "    \n",
    "    \"\"\"\n",
    "    \n",
    "    pi = np.ones((n_compenents)) / n_compenents\n",
    "    means = np.random.choice(X, n_compenents)\n",
    "    variances = np.random.random_sample(size=n_compenents)\n",
    "\n",
    "    labels = ['Random Init 01', 'Random Init 02', 'Random Init 03']\n",
    "    plot_pdfs(means, variances, labels)\n",
    "    \n",
    "    return means,variances,pi"
   ]
  },
  {
   "cell_type": "code",
   "execution_count": 56,
   "id": "3cd6c5e1",
   "metadata": {},
   "outputs": [],
   "source": [
    "def step_expectation(X,n_components,means,variances):\n",
    "    \"\"\"E Step\n",
    "    \n",
    "    Parameters\n",
    "    ----------\n",
    "    X : array-like, shape (n_samples,)\n",
    "        The data.\n",
    "    n_components : int\n",
    "        The number of clusters\n",
    "    means : array-like, shape (n_components,)\n",
    "        The means of each mixture component.\n",
    "    variances : array-like, shape (n_components,)\n",
    "        The variances of each mixture component.\n",
    "        \n",
    "    Returns\n",
    "    -------\n",
    "    weights : array-like, shape (n_components,n_samples)\n",
    "    \"\"\"\n",
    "    weights = np.zeros((n_components,len(X)))\n",
    "    for j in range(n_components):\n",
    "        weights[j,:] = norm(loc=means[j],scale=np.sqrt(variances[j])).pdf(X)\n",
    "    return weights"
   ]
  },
  {
   "cell_type": "code",
   "execution_count": 57,
   "id": "78615fa5",
   "metadata": {},
   "outputs": [],
   "source": [
    "def step_maximization(X,weights,means,variances,n_compenents,pi):\n",
    "    \"\"\"M Step\n",
    "    \n",
    "    Parameters\n",
    "    ----------\n",
    "    X : array-like, shape (n_samples,)\n",
    "        The data.\n",
    "    weights : array-like, shape (n_components,n_samples)\n",
    "        initilized weights array\n",
    "    means : array-like, shape (n_components,)\n",
    "        The means of each mixture component.\n",
    "    variances : array-like, shape (n_components,)\n",
    "        The variances of each mixture component.\n",
    "    n_components : int\n",
    "        The number of clusters\n",
    "    pi: array-like (n_components,)\n",
    "        mixture component weights\n",
    "        \n",
    "    Returns\n",
    "    -------\n",
    "    means : array-like, shape (n_components,)\n",
    "        The means of each mixture component.\n",
    "    variances : array-like, shape (n_components,)\n",
    "        The variances of each mixture component.\n",
    "    \"\"\"\n",
    "    r = []\n",
    "    for j in range(n_compenents):  \n",
    "\n",
    "        r.append((weights[j] * pi[j]) / (np.sum([weights[i] * pi[i] for i in range(n_compenents)], axis=0)))\n",
    "\n",
    "        # Compute the man\n",
    "        means[j] = np.sum(r[j] * X) / (np.sum(r[j]))\n",
    "        \n",
    "        # Compute the variance\n",
    "        variances[j] = np.sum(r[j] * np.square(X - means[j])) / (np.sum(r[j]))\n",
    "        \n",
    "        # Compute the weights \n",
    "        pi[j] = np.mean(r[j])\n",
    "\n",
    "    return variances,means,pi"
   ]
  },
  {
   "cell_type": "code",
   "execution_count": 58,
   "id": "82a03797",
   "metadata": {},
   "outputs": [],
   "source": [
    "from IPython.display import clear_output\n",
    "\n",
    "def train_gmm(data,n_compenents=3,n_steps=50, plot_intermediate_steps_flag=True):\n",
    "    \"\"\" Training step of the GMM model\n",
    "    \n",
    "    Parameters\n",
    "    ----------\n",
    "    data : array-like, shape (n_samples,)\n",
    "        The data.\n",
    "    n_components : int\n",
    "        The number of clusters\n",
    "    n_steps: int\n",
    "        number of iterations to run\n",
    "    \"\"\"\n",
    "    \n",
    "    # Intilize model parameters at the start\n",
    "    means,variances,pi = random_init(n_compenents)\n",
    "\n",
    "    for step in range(n_steps):\n",
    "        # Perform E step\n",
    "        weights = step_expectation(data, n_compenents, means, variances)\n",
    "        # Perform M step\n",
    "        variances, means, pi = step_maximization(X, weights, means, variances, n_compenents, pi)\n",
    "        labels = [rf\"$\\mu={mu_i} \\ ; \\ \\sigma={sigma_i}$\" for mu_i, sigma_i in zip(means, variances)]\n",
    "        clear_output(wait=True)\n",
    "        plot_pdfs(means,variances,labels)"
   ]
  },
  {
   "cell_type": "code",
   "execution_count": 60,
   "id": "a1a2782d",
   "metadata": {},
   "outputs": [
    {
     "data": {
      "image/png": "[encoded data removed]",
      "text/plain": [
       "<Figure size 640x480 with 1 Axes>"
      ]
     },
     "metadata": {},
     "output_type": "display_data"
    }
   ],
   "source": [
    "train_gmm(X, n_compenents=3, n_steps=50, plot_intermediate_steps_flag=True)\n"
   ]
  },
  {
   "cell_type": "code",
   "execution_count": null,
   "id": "acbe3dcf",
   "metadata": {},
   "outputs": [],
   "source": []
  },
  {
   "cell_type": "code",
   "execution_count": null,
   "id": "8a548465",
   "metadata": {},
   "outputs": [],
   "source": []
  }
 ],
 "metadata": {
  "kernelspec": {
   "display_name": "Python 3 (ipykernel)",
   "language": "python",
   "name": "python3"
  },
  "language_info": {
   "codemirror_mode": {
    "name": "ipython",
    "version": 3
   },
   "file_extension": ".py",
   "mimetype": "text/x-python",
   "name": "python",
   "nbconvert_exporter": "python",
   "pygments_lexer": "ipython3",
   "version": "3.10.8"
  }
 },
 "nbformat": 4,
 "nbformat_minor": 5
}
